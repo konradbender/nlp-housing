{
 "cells": [
  {
   "cell_type": "code",
   "execution_count": 1,
   "metadata": {},
   "outputs": [],
   "source": []
  },
  {
   "cell_type": "code",
   "execution_count": null,
   "metadata": {},
   "outputs": [],
   "source": [
    "# does not work anymore because removed mongo integration, need to query from pinecone"
   ]
  },
  {
   "cell_type": "code",
   "execution_count": 3,
   "metadata": {},
   "outputs": [
    {
     "name": "stderr",
     "output_type": "stream",
     "text": [
      "100%|██████████| 118/118 [01:11<00:00,  1.64it/s]\n"
     ]
    }
   ],
   "source": [
    "import os\n",
    "import pinecone\n",
    "from langchain.vectorstores import Pinecone\n",
    "from Database import CollectionWrapperPine\n",
    "from tqdm import tqdm \n",
    "import datetime\n",
    "\n",
    "\n",
    "# embedding model parameters\n",
    "BATCH_SIZE = 100\n",
    "\n",
    "index = CollectionWrapperPine()._index\n",
    "\n",
    "for batch in tqdm(range(0, len(docs_list)//100 +1)):\n",
    "    batch_list = docs_list[batch*BATCH_SIZE:min(len(docs_list), (batch+1)*BATCH_SIZE)]\n",
    "    vectors = []\n",
    "    for doc in batch_list:\n",
    "        document = doc.copy()\n",
    "        if \"desc_embedding\" in document:\n",
    "            document.pop(\"desc_embedding\")\n",
    "        lat = doc['location'][0]\n",
    "        long = doc['location'][1]\n",
    "        document.pop(\"location\")\n",
    "        document['latitude'] = lat\n",
    "        document['longitude'] = long\n",
    "        \n",
    "        document[\"date_added\"] = datetime.datetime.strftime(document[\"date_added\"], \"%Y-%m-%d\")\n",
    "        \n",
    "        id = document[\"_id\"]\n",
    "        document.pop(\"_id\")\n",
    "        \n",
    "        vectors.append(\n",
    "            {\n",
    "            'id': str(id),\n",
    "            'values': np.zeros(DIM).tolist(),\n",
    "            'metadata': document\n",
    "            })\n",
    "    if len(vectors) > 0:\n",
    "        upsert_response = index.upsert(vectors)\n",
    "    if upsert_response.failed:\n",
    "        print(upsert_response.errors)\n",
    "\n"
   ]
  },
  {
   "cell_type": "code",
   "execution_count": 7,
   "metadata": {},
   "outputs": [],
   "source": [
    "import json\n",
    "\n",
    "entries = {}\n",
    "for doc in docs_list:\n",
    "    document = doc.copy()\n",
    "    if \"desc_embedding\" in document:\n",
    "        document.pop(\"desc_embedding\")\n",
    "    lat = doc[\"location\"][0]\n",
    "    long = doc[\"location\"][1]\n",
    "    document.pop(\"location\")\n",
    "    document[\"latitude\"] = lat\n",
    "    document[\"longitude\"] = long\n",
    "\n",
    "    document[\"date_added\"] = datetime.datetime.strftime(\n",
    "        document[\"date_added\"], \"%Y-%m-%d\"\n",
    "    )\n",
    "\n",
    "    id = document[\"_id\"]\n",
    "    document.pop(\"_id\")\n",
    "\n",
    "    entries.update(\n",
    "        {\n",
    "            str(id): {\n",
    "                \"id\": str(id),\n",
    "                \"values\": np.zeros(DIM).tolist(),\n",
    "                \"metadata\": document,\n",
    "            }\n",
    "        }\n",
    "    )\n",
    "with open(\"pinecone-entries.json\", \"w\") as f:\n",
    "    json.dump(entries, f, indent=4)"
   ]
  },
  {
   "cell_type": "code",
   "execution_count": null,
   "metadata": {},
   "outputs": [],
   "source": []
  }
 ],
 "metadata": {
  "kernelspec": {
   "display_name": ".venv",
   "language": "python",
   "name": "python3"
  },
  "language_info": {
   "codemirror_mode": {
    "name": "ipython",
    "version": 3
   },
   "file_extension": ".py",
   "mimetype": "text/x-python",
   "name": "python",
   "nbconvert_exporter": "python",
   "pygments_lexer": "ipython3",
   "version": "3.9.18"
  },
  "orig_nbformat": 4
 },
 "nbformat": 4,
 "nbformat_minor": 2
}
