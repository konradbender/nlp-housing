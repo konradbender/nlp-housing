{
 "cells": [
  {
   "cell_type": "code",
   "execution_count": 1,
   "metadata": {},
   "outputs": [],
   "source": [
    "import openai\n",
    "from dotenv import load_dotenv\n",
    "load_dotenv()\n",
    "import os\n",
    "import pandas as pd\n",
    "from tqdm import tqdm\n",
    "tqdm.pandas()  \n",
    "openai.api_key = os.getenv(\"OPENAI_API_KEY\")\n",
    "\n",
    "UNIQUE_KEY = \"property_id\""
   ]
  },
  {
   "cell_type": "code",
   "execution_count": 2,
   "metadata": {},
   "outputs": [],
   "source": [
    "df = pd.read_csv(\"small_df.csv\", index_col=None)"
   ]
  },
  {
   "cell_type": "code",
   "execution_count": 7,
   "metadata": {},
   "outputs": [],
   "source": [
    "from concurrent.futures import ThreadPoolExecutor, as_completed\n",
    "import json\n",
    "\n",
    "docs = []\n",
    "\n",
    "with open(\"request-docs.jsonl\", \"w\") as f:\n",
    "\n",
    "    for i, row in df.iterrows():\n",
    "        doc = {\n",
    "            \"metadata\": {\"row_id\": row[UNIQUE_KEY]},\n",
    "            \"model\": \"gpt-3.5-turbo\",\n",
    "            \"messages\": [\n",
    "                {\n",
    "                    \"role\": \"system\",\n",
    "                    \"content\": 'You are a computer that rewrites English. From the user, you will be given a bad description of a house. Rewrite that bad description. Only use information given by the user. If you are provided a description that you do not understand, output \"null\"',\n",
    "                },\n",
    "                {\n",
    "                    \"role\": \"user\",\n",
    "                    \"content\": row[\"description\"],\n",
    "                },\n",
    "            ],\n",
    "            \"temperature\": 1,\n",
    "            \"max_tokens\": 256,\n",
    "            \"top_p\": 1,\n",
    "            \"frequency_penalty\": 0,\n",
    "            \"presence_penalty\": 0,\n",
    "        }\n",
    "        f.write(json.dumps(doc) + \"\\n\")\n"
   ]
  },
  {
   "cell_type": "code",
   "execution_count": 6,
   "metadata": {},
   "outputs": [
    {
     "data": {
      "text/plain": [
       "{'model': 'gpt-3.5-turbo',\n",
       " 'messages': [{'role': 'system',\n",
       "   'content': 'You are a helpful english teacher. From the user, you will be given a bad description of a house.\\nRewrite that bad description. Only use information given by the user.'},\n",
       "  {'role': 'user',\n",
       "   'content': 'Grab This Auspicious Opportunity To Execute Your Dreams Into Reality. It Is Sure To Be A Profitable Deal For Any Genuine Client. The Right Place To Invest Your Money. Interested Persons Welcome To Visit The Property. Please Feel Free To Call Us If You Need Further Details About It. We Request That Only Serious Individuals Contact Us To Make An Immediate Deal, And Please Do Not Forget To Mention Zameen. com When Calling.'}],\n",
       " 'temperature': 1,\n",
       " 'max_tokens': 256,\n",
       " 'top_p': 1,\n",
       " 'frequency_penalty': 0,\n",
       " 'presence_penalty': 0}"
      ]
     },
     "execution_count": 6,
     "metadata": {},
     "output_type": "execute_result"
    }
   ],
   "source": [
    "docs[0]"
   ]
  },
  {
   "cell_type": "code",
   "execution_count": 1,
   "metadata": {},
   "outputs": [
    {
     "data": {
      "text/plain": [
       "count    1.175600e+04\n",
       "mean     3.909281e+07\n",
       "std      5.670124e+07\n",
       "min      1.000000e+04\n",
       "25%      1.150000e+07\n",
       "50%      2.250000e+07\n",
       "75%      4.750000e+07\n",
       "max      2.000000e+09\n",
       "Name: price, dtype: float64"
      ]
     },
     "execution_count": 1,
     "metadata": {},
     "output_type": "execute_result"
    }
   ],
   "source": [
    "import pandas as pd\n",
    "df = pd.read_csv(\"data/small_df.csv\")\n",
    "df.price.describe()"
   ]
  },
  {
   "cell_type": "code",
   "execution_count": null,
   "metadata": {},
   "outputs": [],
   "source": []
  }
 ],
 "metadata": {
  "kernelspec": {
   "display_name": ".venv",
   "language": "python",
   "name": "python3"
  },
  "language_info": {
   "codemirror_mode": {
    "name": "ipython",
    "version": 3
   },
   "file_extension": ".py",
   "mimetype": "text/x-python",
   "name": "python",
   "nbconvert_exporter": "python",
   "pygments_lexer": "ipython3",
   "version": "3.9.18"
  },
  "orig_nbformat": 4
 },
 "nbformat": 4,
 "nbformat_minor": 2
}
