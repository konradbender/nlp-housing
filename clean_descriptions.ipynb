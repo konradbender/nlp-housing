{
 "cells": [
  {
   "cell_type": "code",
   "execution_count": 1,
   "metadata": {},
   "outputs": [],
   "source": [
    "import openai\n",
    "from dotenv import load_dotenv\n",
    "load_dotenv()\n",
    "import os\n",
    "import pandas as pd\n",
    "from tqdm import tqdm\n",
    "tqdm.pandas()  \n",
    "openai.api_key = os.getenv(\"OPENAI_API_KEY\")\n",
    "\n",
    "UNIQUE_KEY = \"property_id\""
   ]
  },
  {
   "cell_type": "code",
   "execution_count": 2,
   "metadata": {},
   "outputs": [],
   "source": [
    "def get_embedding(raw, wait=True):\n",
    "    response = openai.ChatCompletion.create(\n",
    "        model=\"gpt-3.5-turbo\",\n",
    "        messages=[\n",
    "            {\n",
    "                \"role\": \"system\",\n",
    "                \"content\": \"You are a helpful english teacher. From the user, you will be given a bad description of a house.Rewrite that bad description. Only use information given by the user.\",\n",
    "            },\n",
    "            {\"role\": \"user\", \"content\": raw},\n",
    "        ],\n",
    "        temperature=1,\n",
    "        max_tokens=256,\n",
    "        top_p=1,\n",
    "        frequency_penalty=0,\n",
    "        presence_penalty=0,\n",
    "    )\n",
    "    try:\n",
    "        return response.choices[0][\"message\"][\"content\"]\n",
    "    except KeyError:\n",
    "        raise UserWarning(\"No response from GPT-3.5. Try again.\")\n",
    "        return None"
   ]
  },
  {
   "cell_type": "code",
   "execution_count": 3,
   "metadata": {},
   "outputs": [
    {
     "data": {
      "text/plain": [
       "\"Nestled in a serene location, far from the bustling city, this house provides the tranquility and peace of mind you desire. Whether you are seeking a profitable investment or a cozy dwelling, this property is worth considering. With limited 2250 square feet units available, time is of essence, so act quickly before it's too late. Priced at only Rs. 29,000,000, this house offers an ideal living space for families. Situated in the desirable neighborhood of PGECHS Phase 2, it provides easy access to all the city's attractions and landmarks. Take advantage of this opportunity to own an affordable home in Lahore. \\n\\nThe property features a spacious lawn where you can leisurely host gatherings with your loved ones. Furthermore, the house boasts a large sitting room with beautiful windows that add elegance and charm to the property. The inviting drawing room is the perfect space to entertain guests, showcasing a neat and beautiful ambiance. Additionally, the presence of a powder room is a convenient and thoughtful addition, particularly for those who often have visitors. The house is equipped with stylish yet practical double-glazed windows. For any inquiries or concerns, please feel free to contact our agents using the provided phone number.\""
      ]
     },
     "execution_count": 3,
     "metadata": {},
     "output_type": "execute_result"
    }
   ],
   "source": [
    "get_embedding(\"Peacefully located away from the hustle and bustle of the main city, this House will give you the peace of mind you need most. Looking for a lucrative investment or a shelter? Consider the following buy. 2250 Square Feet unit options are limited, so hurry up before it's too late. The ideal place for family living made available at only Rs. 29,000,000. The location of the House in PGECHS Phase 2 is such that all the attractions and landmarks of the city are easily accessible from it. Grab the opportunity to own your own home in Lahore with affordable housing options available. The details of the property are listed down below. The lawn outside is large enough to let you host a party with family and friends. A large sitting room with windows like the one that comes with this House can elevate any property. The drawing room in this house lets you entertain your guests in a neat and beautiful space. A powder room is a great addition especially if you frequently entertain guests. The House has double glazed windows that are stylish yet practical. Our agents can help address your concerns, if you dial the given number.\")"
   ]
  },
  {
   "cell_type": "code",
   "execution_count": 4,
   "metadata": {},
   "outputs": [],
   "source": [
    "df = pd.read_csv(\"small_df.csv\", index_col=None)"
   ]
  },
  {
   "cell_type": "code",
   "execution_count": 5,
   "metadata": {},
   "outputs": [
    {
     "name": "stderr",
     "output_type": "stream",
     "text": [
      "  0%|          | 0/588 [00:00<?, ?it/s]"
     ]
    },
    {
     "name": "stderr",
     "output_type": "stream",
     "text": [
      "  1%|          | 3/588 [01:09<3:53:49, 23.98s/it]"
     ]
    }
   ],
   "source": [
    "from concurrent.futures import ThreadPoolExecutor, as_completed\n",
    "import json\n",
    "descriptions = {} \n",
    "BATCH_SIZE = 1000\n",
    "with ThreadPoolExecutor(max_workers=10) as executor:\n",
    "    for j in tqdm(range(0, len(df), 20)):\n",
    "        batch_df = df.iloc[j:min(j+20, len(df))]\n",
    "        future_to_key = {}\n",
    "        \n",
    "        # request this batch\n",
    "        for i, row in enumerate(batch_df.iterrows()):\n",
    "            index, data = row\n",
    "            res = {executor.submit(get_embedding, data[\"description\"]): data[UNIQUE_KEY]}\n",
    "            future_to_key.update(res)\n",
    "\n",
    "        # get responses for this batch\n",
    "        for future in as_completed(future_to_key):\n",
    "            key = future_to_key[future]\n",
    "            try:\n",
    "                data = future.result()\n",
    "            except Exception as exc:\n",
    "                print('%r generated an exception: %s' % (key, exc))\n",
    "            else:\n",
    "                res = {key: data}\n",
    "                descriptions.update(res)\n",
    "\n",
    "\n",
    "with open('new-description.json', 'w') as fp:\n",
    "    json.dump(descriptions, fp) "
   ]
  },
  {
   "cell_type": "code",
   "execution_count": 9,
   "metadata": {},
   "outputs": [
    {
     "data": {
      "text/plain": [
       "24.0"
      ]
     },
     "execution_count": 9,
     "metadata": {},
     "output_type": "execute_result"
    }
   ],
   "source": [
    "12000/500"
   ]
  }
 ],
 "metadata": {
  "kernelspec": {
   "display_name": ".venv",
   "language": "python",
   "name": "python3"
  },
  "language_info": {
   "codemirror_mode": {
    "name": "ipython",
    "version": 3
   },
   "file_extension": ".py",
   "mimetype": "text/x-python",
   "name": "python",
   "nbconvert_exporter": "python",
   "pygments_lexer": "ipython3",
   "version": "3.9.18"
  },
  "orig_nbformat": 4
 },
 "nbformat": 4,
 "nbformat_minor": 2
}
